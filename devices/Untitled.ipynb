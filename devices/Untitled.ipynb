{
 "cells": [
  {
   "cell_type": "code",
   "execution_count": 1,
   "id": "20ff54ee-be29-4cef-992d-c4b7f5b44d61",
   "metadata": {},
   "outputs": [],
   "source": [
    "pmbaddr=0x60"
   ]
  },
  {
   "cell_type": "code",
   "execution_count": 3,
   "id": "aa2ba702-c60b-4812-89fb-7fe76b83c9fd",
   "metadata": {},
   "outputs": [
    {
     "data": {
      "text/plain": [
       "int"
      ]
     },
     "execution_count": 3,
     "metadata": {},
     "output_type": "execute_result"
    }
   ],
   "source": [
    "type(pmbaddr)"
   ]
  },
  {
   "cell_type": "code",
   "execution_count": null,
   "id": "b36ba837-56c9-4918-bc3a-84d42c22dc29",
   "metadata": {},
   "outputs": [],
   "source": []
  }
 ],
 "metadata": {
  "kernelspec": {
   "display_name": "Python 3 (ipykernel)",
   "language": "python",
   "name": "python3"
  },
  "language_info": {
   "codemirror_mode": {
    "name": "ipython",
    "version": 3
   },
   "file_extension": ".py",
   "mimetype": "text/x-python",
   "name": "python",
   "nbconvert_exporter": "python",
   "pygments_lexer": "ipython3",
   "version": "3.9.9"
  }
 },
 "nbformat": 4,
 "nbformat_minor": 5
}
