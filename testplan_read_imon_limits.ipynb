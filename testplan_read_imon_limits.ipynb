{
 "cells": [
  {
   "cell_type": "code",
   "execution_count": 1,
   "id": "e8879e90-dd37-4c7a-b753-aa9d24712284",
   "metadata": {},
   "outputs": [],
   "source": [
    "import sys,os,time #,clr\n",
    "from pathlib import Path\n",
    "import datetime\n",
    "from openpyxl import load_workbook\n",
    "import warnings\n",
    "warnings.filterwarnings('ignore')"
   ]
  },
  {
   "cell_type": "markdown",
   "id": "0bbc8c3d-28d7-488b-ac9f-b3f1f361d30b",
   "metadata": {},
   "source": [
    "### Input - Parameters"
   ]
  },
  {
   "cell_type": "code",
   "execution_count": 2,
   "id": "e30dcec4-5061-413e-bb75-cc19ad746c64",
   "metadata": {},
   "outputs": [],
   "source": [
    "microproc_family = 'LNL'\n",
    "power_level      = '17W'\n",
    "test_rail        = \"VCCSA\"\n"
   ]
  },
  {
   "cell_type": "markdown",
   "id": "16004d03-3d4a-42e8-ba2c-f4e9b0de1626",
   "metadata": {},
   "source": [
    "### Testplan filename for input"
   ]
  },
  {
   "cell_type": "code",
   "execution_count": 10,
   "id": "737b23f9-5747-4f5c-8234-1f72ce662b43",
   "metadata": {},
   "outputs": [],
   "source": [
    "family_folder = Path('testplan')\n",
    "path = family_folder#/rspec_folder\n",
    "dir_list = os.listdir(path)"
   ]
  },
  {
   "cell_type": "code",
   "execution_count": 11,
   "id": "c2374b2f-31fe-4d2e-b575-3a95cae51c3a",
   "metadata": {},
   "outputs": [
    {
     "data": {
      "text/plain": [
       "['A2_RAA225019_VCCSA_644954_IMVP9p2_Volt_Reg_Valid_Plan_Rev1p7.xlsm',\n",
       " 'ECORE_A3_CRB_644954_IMVP9p2_VR_Valid_Rev1p7_v1_April-2024.xlsm',\n",
       " 'VCCDDRIO_A3_CRB_RAA225019_ROP_v1_May-15-2024.xlsx',\n",
       " 'VCCGT_A3_CRB_LNL_IMVP9p2_VR_Valid_Rev1p2_v1_May-15-2024.xlsm',\n",
       " 'VCCIA_A3_CRB_644954_IMVP9p2_VR_Valid_Rev1p7_v1_May-22-2024.xlsm',\n",
       " 'VCCL2_A3_CRB_644954_IMVP9p2_VR_Valid_Rev1p7_v1_May-22-2024 (1).xlsm',\n",
       " 'VCCSA_A3_CRB_LNL_IMVP9p2_VR_Valid_Rev1p2_v1_May-22-2024.xlsm',\n",
       " 'VDD2H_A3_CRB_RAA225019_ROP_v1_May-14-2024.xlsx',\n",
       " 'VDD2L_A3_CRB_RAA225019_ROP_v1_May-15-2024.xlsx',\n",
       " 'VDDQ_A3_CRB_RAA225019_ROP_v1_May-22-2024.xlsx',\n",
       " 'VNNAON_A3_CRB_+2MLCC_RAA225019_ROP_v1_May-22-2024.xlsx',\n",
       " 'VNNAON_A3_CRB_RAA225019_ROP_v1_May-07-2024.xlsx',\n",
       " 'VNNLV_A3_CRB_RAA225019_ROP_v1_May-22-2024.xlsx']"
      ]
     },
     "execution_count": 11,
     "metadata": {},
     "output_type": "execute_result"
    }
   ],
   "source": [
    "dir_list"
   ]
  },
  {
   "cell_type": "code",
   "execution_count": 12,
   "id": "6913fe49-5c56-42fd-ac6f-78e890893ec1",
   "metadata": {},
   "outputs": [
    {
     "data": {
      "text/plain": [
       "WindowsPath('testplan/VCCGT_A3_CRB_LNL_IMVP9p2_VR_Valid_Rev1p2_v1_May-15-2024.xlsm')"
      ]
     },
     "execution_count": 12,
     "metadata": {},
     "output_type": "execute_result"
    }
   ],
   "source": [
    "file_idx = 3\n",
    "testplanfile = path/dir_list[file_idx]\n",
    "testplanfile"
   ]
  },
  {
   "cell_type": "markdown",
   "id": "e6326aff-2e71-4332-b8db-c6bf094cd253",
   "metadata": {},
   "source": [
    "### Extract imon upper and lower limits from testplan"
   ]
  },
  {
   "cell_type": "code",
   "execution_count": 13,
   "id": "e1cea1ab-7370-4bff-b699-56765485c78a",
   "metadata": {},
   "outputs": [],
   "source": [
    "imon_limits = {\"sheet\":\"IOUT Calcs\",\n",
    "                   \"cells\":{0 :{\"load\":\"O23:O33\",\n",
    "                                 \"lower\"  :\"R23:R33\",\n",
    "                                 \"upper\"  :\"S23:S33\"\n",
    "                                 },\n",
    "                            1 :{\"load\":\"O43:O53\",\n",
    "                                 \"lower\"  :\"R43:R53\",\n",
    "                                 \"upper\"  :\"S43:S53\"\n",
    "                                 },\n",
    "                            2 :{\"load\":\"O64:O67\",\n",
    "                                 \"lower\"  :\"R64:R67\",\n",
    "                                 \"upper\"  :\"S64:S67\"\n",
    "                                 }\n",
    "                            }\n",
    "                  }"
   ]
  },
  {
   "cell_type": "code",
   "execution_count": 14,
   "id": "5aef2b3d-89c1-424c-92d9-9a84551348f0",
   "metadata": {},
   "outputs": [],
   "source": [
    "wb = load_workbook(testplanfile,data_only=True)\n",
    "try:\n",
    "    ws = wb[imon_limits[\"sheet\"]]\n",
    "except:\n",
    "    print(\"this testplan has no imon sheet\")"
   ]
  },
  {
   "cell_type": "code",
   "execution_count": 15,
   "id": "643b863e-a136-4ac9-9ec5-53cd89a95fe3",
   "metadata": {},
   "outputs": [],
   "source": [
    "limits = {phase:{column:[value[0].value \n",
    "                 for value in ws[imon_limits['cells'][phase][column]] if value[0].value != '#N/A']\n",
    "                 for column in ['load','lower','upper']}\n",
    "                 for phase in [0,1,2]}\n",
    "                         "
   ]
  },
  {
   "cell_type": "code",
   "execution_count": 16,
   "id": "0066d0dc-3666-41b8-8afd-8ada389fffc9",
   "metadata": {},
   "outputs": [
    {
     "data": {
      "text/plain": [
       "{0: {'load': [2, 3, 4, 6, 8, 10, 12, 14, 16, 18, 20],\n",
       "  'lower': [1.4, 2.1, 3.2, 5.22, 7.2, 9, 11.16, 13.16, 15.04, 17.1, 19],\n",
       "  'upper': [2.6, 3.9, 4.8, 6.78, 8.8, 11, 12.84, 14.84, 16.96, 18.9, 21]},\n",
       " 1: {'load': [2, 3, 4, 5, 6, 7, 8, 9],\n",
       "  'lower': [0, 1.5, 3.32, 4.25, 5.25, 6.265, 7.24, 8.145],\n",
       "  'upper': [4, 4.5, 4.68, 5.75, 6.75, 7.735, 8.76, 9.855]},\n",
       " 2: {'load': [2, 3, 4, 5],\n",
       "  'lower': [0, 1.5, 3.32, 4.25],\n",
       "  'upper': [4, 4.5, 4.68, 5.75]}}"
      ]
     },
     "execution_count": 16,
     "metadata": {},
     "output_type": "execute_result"
    }
   ],
   "source": [
    "limits"
   ]
  },
  {
   "cell_type": "code",
   "execution_count": null,
   "id": "449fca2d-0400-4b26-ac62-70a8581447c4",
   "metadata": {},
   "outputs": [],
   "source": [
    "wb.close()"
   ]
  },
  {
   "cell_type": "code",
   "execution_count": null,
   "id": "a2e351dc-4676-4891-9d8f-3cc220c09372",
   "metadata": {},
   "outputs": [],
   "source": []
  }
 ],
 "metadata": {
  "kernelspec": {
   "display_name": "Python 3 (ipykernel)",
   "language": "python",
   "name": "python3"
  },
  "language_info": {
   "codemirror_mode": {
    "name": "ipython",
    "version": 3
   },
   "file_extension": ".py",
   "mimetype": "text/x-python",
   "name": "python",
   "nbconvert_exporter": "python",
   "pygments_lexer": "ipython3",
   "version": "3.9.13"
  }
 },
 "nbformat": 4,
 "nbformat_minor": 5
}
