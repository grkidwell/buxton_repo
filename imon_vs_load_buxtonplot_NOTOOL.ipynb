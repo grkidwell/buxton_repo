{
 "cells": [
  {
   "cell_type": "markdown",
   "id": "de78fd23-5a98-4549-9b7e-e303b00dc3ee",
   "metadata": {},
   "source": [
    "## VTT Tool not used.  Instead, controller is queried for imon"
   ]
  },
  {
   "cell_type": "code",
   "execution_count": 1,
   "id": "a3bfdee8-7c83-4b0f-b12b-9b0f0c16fcf3",
   "metadata": {},
   "outputs": [],
   "source": [
    "import sys,os,time #,clr\n",
    "\n",
    "from pathlib import Path\n",
    "#import os\n",
    "import datetime\n",
    "import openpyxl"
   ]
  },
  {
   "cell_type": "code",
   "execution_count": 23,
   "id": "2eeff4b6-fac3-49b6-889c-9138a70f56fa",
   "metadata": {},
   "outputs": [],
   "source": [
    "import fcns.static_LL_NOTOOL as static_LL\n",
    "import fcns.file_output as file_output"
   ]
  },
  {
   "cell_type": "code",
   "execution_count": 24,
   "id": "3b6953f1-d604-447d-ba38-cfe8a35aa2e1",
   "metadata": {},
   "outputs": [],
   "source": [
    "import pandas as pd"
   ]
  },
  {
   "cell_type": "code",
   "execution_count": 25,
   "id": "887d5351-458e-4d7d-b6ca-86b35d9c9bd0",
   "metadata": {},
   "outputs": [],
   "source": [
    "pmbaddr=0x64\n",
    "#dut: DUT = DUT(pmbaddr)"
   ]
  },
  {
   "cell_type": "markdown",
   "id": "2cb8c46f-f9b8-4118-94d0-fcc55fecd13d",
   "metadata": {},
   "source": [
    "### Input - Parameters"
   ]
  },
  {
   "cell_type": "code",
   "execution_count": 26,
   "id": "b04af85a-8dd7-4b23-9cea-42145bf83ba6",
   "metadata": {},
   "outputs": [],
   "source": [
    "microproc_family = 'LNL'\n",
    "power_level      = '17W'\n",
    "test_rail        = \"VCCSA\"\n",
    "\n",
    "#power_states = [1]#,1,2,3]\n",
    "pstate=0\n",
    "\n",
    "loadhw = \"kikusui\""
   ]
  },
  {
   "cell_type": "code",
   "execution_count": 6,
   "id": "cb3070be-517e-49ba-8b87-6cc154636d24",
   "metadata": {},
   "outputs": [],
   "source": [
    "#power_states[0]"
   ]
  },
  {
   "cell_type": "markdown",
   "id": "659d54b6-91b6-4c96-9004-a4fd6d18815c",
   "metadata": {},
   "source": [
    "### Testplan filename for output"
   ]
  },
  {
   "cell_type": "code",
   "execution_count": 27,
   "id": "87408b88-d08f-4292-8a06-391b3264365a",
   "metadata": {},
   "outputs": [],
   "source": [
    "#family_folder = Path(\"C:/Users/GKIDWELL/OneDrive - Renesas Electronics Corporation/Productlines/MultiphaseDigital/Owl_GWS_fets/imon_gws_vs_aos\")\n",
    "family_folder = Path('testplan')\n",
    "#rspec_folder = 'RAA225000_2P1P1_Dell_Arches13MLK_U15_ID0_PN420_050323'\n",
    "path = family_folder#/rspec_folder\n",
    "dir_list = os.listdir(path)"
   ]
  },
  {
   "cell_type": "code",
   "execution_count": 28,
   "id": "d47fa329-9609-406d-bda7-5babdfc2cd0a",
   "metadata": {},
   "outputs": [
    {
     "data": {
      "text/plain": [
       "['A2_RAA225019_VCCSA_644954_IMVP9p2_Volt_Reg_Valid_Plan_Rev1p7.xlsm']"
      ]
     },
     "execution_count": 28,
     "metadata": {},
     "output_type": "execute_result"
    }
   ],
   "source": [
    "dir_list"
   ]
  },
  {
   "cell_type": "code",
   "execution_count": 29,
   "id": "cb7d4abf-2ba9-44c8-a002-9655a111fbc3",
   "metadata": {},
   "outputs": [
    {
     "data": {
      "text/plain": [
       "WindowsPath('testplan/A2_RAA225019_VCCSA_644954_IMVP9p2_Volt_Reg_Valid_Plan_Rev1p7.xlsm')"
      ]
     },
     "execution_count": 29,
     "metadata": {},
     "output_type": "execute_result"
    }
   ],
   "source": [
    "file_idx = 0\n",
    "testplanfile = path/dir_list[file_idx]\n",
    "testplanfile"
   ]
  },
  {
   "cell_type": "markdown",
   "id": "99154bdc-3077-4f9e-88ea-645108b5c98c",
   "metadata": {},
   "source": [
    "### Extract imon upper and lower limits from testplan"
   ]
  },
  {
   "cell_type": "code",
   "execution_count": 30,
   "id": "92835bcc-99c0-476a-a0fb-4741b514fbc5",
   "metadata": {
    "tags": []
   },
   "outputs": [],
   "source": [
    "from openpyxl import load_workbook"
   ]
  },
  {
   "cell_type": "code",
   "execution_count": 31,
   "id": "15927bc9-7444-48a6-a78b-53d45ef54ba1",
   "metadata": {},
   "outputs": [],
   "source": [
    "imon_limits = {\"sheet\":\"IOUT Calcs\",\n",
    "                   \"cells\":{0 :{\"load\":\"O23:O33\",\n",
    "                                 \"lower\"  :\"R23:R33\",\n",
    "                                 \"upper\"  :\"S23:S33\"\n",
    "                                 },\n",
    "                            1 :{\"load\":\"O43:O53\",\n",
    "                                 \"lower\"  :\"R43:R53\",\n",
    "                                 \"upper\"  :\"S43:S53\"\n",
    "                                 },\n",
    "                            2 :{\"load\":\"O64:O67\",\n",
    "                                 \"lower\"  :\"R64:R67\",\n",
    "                                 \"upper\"  :\"S64:S67\"\n",
    "                                 }\n",
    "                            }\n",
    "                  }"
   ]
  },
  {
   "cell_type": "markdown",
   "id": "2f49e533-6b7c-4505-8a29-eae9da3f52a6",
   "metadata": {},
   "source": [
    "### Testplan filename for output"
   ]
  },
  {
   "cell_type": "code",
   "execution_count": 32,
   "id": "13b56951-10a3-4586-8635-4682971224d4",
   "metadata": {},
   "outputs": [
    {
     "name": "stderr",
     "output_type": "stream",
     "text": [
      "C:\\users\\gkidwell\\OneDrive - Renesas Electronics Corporation\\python\\rp2040\\u2if_env_hp\\lib\\site-packages\\openpyxl\\worksheet\\_reader.py:312: UserWarning: Conditional Formatting extension is not supported and will be removed\n",
      "  warn(msg)\n",
      "C:\\users\\gkidwell\\OneDrive - Renesas Electronics Corporation\\python\\rp2040\\u2if_env_hp\\lib\\site-packages\\openpyxl\\worksheet\\header_footer.py:48: UserWarning: Cannot parse header or footer so it will be ignored\n",
      "  warn(\"\"\"Cannot parse header or footer so it will be ignored\"\"\")\n",
      "C:\\users\\gkidwell\\OneDrive - Renesas Electronics Corporation\\python\\rp2040\\u2if_env_hp\\lib\\site-packages\\openpyxl\\worksheet\\_reader.py:312: UserWarning: Data Validation extension is not supported and will be removed\n",
      "  warn(msg)\n"
     ]
    }
   ],
   "source": [
    "wb = load_workbook(testplanfile,data_only=True)\n",
    "ws = wb[imon_limits[\"sheet\"]]"
   ]
  },
  {
   "cell_type": "code",
   "execution_count": 33,
   "id": "99120176-5195-40b4-a58d-a7060a1fb41c",
   "metadata": {},
   "outputs": [],
   "source": [
    "limits = {phase:{column:[value[0].value \n",
    "                 for value in ws[imon_limits['cells'][phase][column]] if value[0].value != '#N/A']\n",
    "                 for column in ['load','lower','upper']}\n",
    "                 for phase in [0,1,2]}\n",
    "                         "
   ]
  },
  {
   "cell_type": "code",
   "execution_count": 34,
   "id": "6b7ef4dc-7637-4f6f-ba58-6a7a23b4a4ba",
   "metadata": {},
   "outputs": [
    {
     "data": {
      "text/plain": [
       "{0: {'load': [2, 4, 6, 8, 10, 12, 14, 16, 18, 20, 22],\n",
       "  'lower': [1.4, 3.2, 5.22, 7.2, 9, 11.16, 13.02, 15.04, 16.92, 19, 20.9],\n",
       "  'upper': [2.6, 4.8, 6.78, 8.8, 11, 12.84, 14.98, 16.96, 19.08, 21, 23.1]},\n",
       " 1: {'load': [2, 3, 4, 5, 6, 7, 8, 9],\n",
       "  'lower': [0, 1.5, 3.32, 4.25, 5.25, 6.265, 7.24, 8.145],\n",
       "  'upper': [4, 4.5, 4.68, 5.75, 6.75, 7.735, 8.76, 9.855]},\n",
       " 2: {'load': [2, 3, 4, 5],\n",
       "  'lower': [0, 1.5, 3.32, 4.25],\n",
       "  'upper': [4, 4.5, 4.68, 5.75]}}"
      ]
     },
     "execution_count": 34,
     "metadata": {},
     "output_type": "execute_result"
    }
   ],
   "source": [
    "limits"
   ]
  },
  {
   "cell_type": "code",
   "execution_count": 35,
   "id": "4ac33716-343d-449e-9920-0a61080fbb0d",
   "metadata": {},
   "outputs": [],
   "source": [
    "df_limits = pd.DataFrame.from_dict(limits[pstate])\n",
    "df_limits.load=df_limits.load.round(pstate)\n"
   ]
  },
  {
   "cell_type": "code",
   "execution_count": 36,
   "id": "c1690976-ba66-4c67-81a2-233ac45cfd24",
   "metadata": {},
   "outputs": [
    {
     "data": {
      "text/html": [
       "<div>\n",
       "<style scoped>\n",
       "    .dataframe tbody tr th:only-of-type {\n",
       "        vertical-align: middle;\n",
       "    }\n",
       "\n",
       "    .dataframe tbody tr th {\n",
       "        vertical-align: top;\n",
       "    }\n",
       "\n",
       "    .dataframe thead th {\n",
       "        text-align: right;\n",
       "    }\n",
       "</style>\n",
       "<table border=\"1\" class=\"dataframe\">\n",
       "  <thead>\n",
       "    <tr style=\"text-align: right;\">\n",
       "      <th></th>\n",
       "      <th>load</th>\n",
       "      <th>lower</th>\n",
       "      <th>upper</th>\n",
       "    </tr>\n",
       "  </thead>\n",
       "  <tbody>\n",
       "    <tr>\n",
       "      <th>0</th>\n",
       "      <td>2</td>\n",
       "      <td>1.40</td>\n",
       "      <td>2.60</td>\n",
       "    </tr>\n",
       "    <tr>\n",
       "      <th>1</th>\n",
       "      <td>4</td>\n",
       "      <td>3.20</td>\n",
       "      <td>4.80</td>\n",
       "    </tr>\n",
       "    <tr>\n",
       "      <th>2</th>\n",
       "      <td>6</td>\n",
       "      <td>5.22</td>\n",
       "      <td>6.78</td>\n",
       "    </tr>\n",
       "    <tr>\n",
       "      <th>3</th>\n",
       "      <td>8</td>\n",
       "      <td>7.20</td>\n",
       "      <td>8.80</td>\n",
       "    </tr>\n",
       "    <tr>\n",
       "      <th>4</th>\n",
       "      <td>10</td>\n",
       "      <td>9.00</td>\n",
       "      <td>11.00</td>\n",
       "    </tr>\n",
       "    <tr>\n",
       "      <th>5</th>\n",
       "      <td>12</td>\n",
       "      <td>11.16</td>\n",
       "      <td>12.84</td>\n",
       "    </tr>\n",
       "    <tr>\n",
       "      <th>6</th>\n",
       "      <td>14</td>\n",
       "      <td>13.02</td>\n",
       "      <td>14.98</td>\n",
       "    </tr>\n",
       "    <tr>\n",
       "      <th>7</th>\n",
       "      <td>16</td>\n",
       "      <td>15.04</td>\n",
       "      <td>16.96</td>\n",
       "    </tr>\n",
       "    <tr>\n",
       "      <th>8</th>\n",
       "      <td>18</td>\n",
       "      <td>16.92</td>\n",
       "      <td>19.08</td>\n",
       "    </tr>\n",
       "    <tr>\n",
       "      <th>9</th>\n",
       "      <td>20</td>\n",
       "      <td>19.00</td>\n",
       "      <td>21.00</td>\n",
       "    </tr>\n",
       "    <tr>\n",
       "      <th>10</th>\n",
       "      <td>22</td>\n",
       "      <td>20.90</td>\n",
       "      <td>23.10</td>\n",
       "    </tr>\n",
       "  </tbody>\n",
       "</table>\n",
       "</div>"
      ],
      "text/plain": [
       "    load  lower  upper\n",
       "0      2   1.40   2.60\n",
       "1      4   3.20   4.80\n",
       "2      6   5.22   6.78\n",
       "3      8   7.20   8.80\n",
       "4     10   9.00  11.00\n",
       "5     12  11.16  12.84\n",
       "6     14  13.02  14.98\n",
       "7     16  15.04  16.96\n",
       "8     18  16.92  19.08\n",
       "9     20  19.00  21.00\n",
       "10    22  20.90  23.10"
      ]
     },
     "execution_count": 36,
     "metadata": {},
     "output_type": "execute_result"
    }
   ],
   "source": [
    "df_limits"
   ]
  },
  {
   "cell_type": "markdown",
   "id": "68f3973c-44b9-4ff9-9dd0-adeefa70c29a",
   "metadata": {
    "tags": []
   },
   "source": [
    "### Take loadline data"
   ]
  },
  {
   "cell_type": "code",
   "execution_count": 58,
   "id": "836a2536-f681-4ada-8bcd-e8c8b89730db",
   "metadata": {},
   "outputs": [
    {
     "name": "stdout",
     "output_type": "stream",
     "text": [
      "##################################\n",
      "----------------------------------\n",
      "    DC LOAD LINE AT PS = 0    \n",
      "----------------------------------\n",
      "##################################\n",
      "\n",
      "Begining Test\n",
      "\n",
      "\n",
      "...............................\n",
      "load\tdIMON\tIMON\tnPHASE\n",
      "...............................\n",
      "0.12\t0x0\t0.0\t1\n",
      "2.104\t0xa\t1.49\t1\n",
      "4.098\t0x17\t3.427\t2\n",
      "6.093\t0x25\t5.514\t2\n",
      "8.081\t0x33\t7.6\t2\n",
      "10.046\t0x3f\t9.388\t2\n",
      "12.034\t0x4d\t11.475\t4\n",
      "14.023\t0x5a\t13.412\t4\n",
      "16.015\t0x68\t15.498\t4\n",
      "18.004\t0x73\t17.137\t4\n",
      "20.029\t0x82\t19.373\t4\n",
      "22.018\t0x8f\t21.31\t4\n",
      "-------------------------------\n",
      "\n",
      "Test complete.\n"
     ]
    }
   ],
   "source": [
    "# datasets = {str(pstate):static_LL.setup_and_take_data(microproc_family,power_level,test_rail,pstate,loadhw) \n",
    "#            for pstate in power_states}\n",
    "datasets = static_LL.setup_and_take_data(pmbaddr,microproc_family,power_level,test_rail,pstate,loadhw) "
   ]
  },
  {
   "cell_type": "markdown",
   "id": "8f2125bd-e998-4121-abae-c3adbfb357b6",
   "metadata": {},
   "source": [
    "### Create Dataframe from test data"
   ]
  },
  {
   "cell_type": "code",
   "execution_count": 59,
   "id": "e4c75e2e-f610-41bd-8448-f31380c91a73",
   "metadata": {},
   "outputs": [
    {
     "data": {
      "text/html": [
       "<div>\n",
       "<style scoped>\n",
       "    .dataframe tbody tr th:only-of-type {\n",
       "        vertical-align: middle;\n",
       "    }\n",
       "\n",
       "    .dataframe tbody tr th {\n",
       "        vertical-align: top;\n",
       "    }\n",
       "\n",
       "    .dataframe thead th {\n",
       "        text-align: right;\n",
       "    }\n",
       "</style>\n",
       "<table border=\"1\" class=\"dataframe\">\n",
       "  <thead>\n",
       "    <tr style=\"text-align: right;\">\n",
       "      <th></th>\n",
       "      <th>load</th>\n",
       "      <th>dimon</th>\n",
       "      <th>imon</th>\n",
       "      <th>nphase</th>\n",
       "    </tr>\n",
       "  </thead>\n",
       "  <tbody>\n",
       "    <tr>\n",
       "      <th>0</th>\n",
       "      <td>0.0</td>\n",
       "      <td>0x0</td>\n",
       "      <td>0.000</td>\n",
       "      <td>1</td>\n",
       "    </tr>\n",
       "    <tr>\n",
       "      <th>1</th>\n",
       "      <td>2.0</td>\n",
       "      <td>0xa</td>\n",
       "      <td>1.490</td>\n",
       "      <td>1</td>\n",
       "    </tr>\n",
       "    <tr>\n",
       "      <th>2</th>\n",
       "      <td>4.0</td>\n",
       "      <td>0x17</td>\n",
       "      <td>3.427</td>\n",
       "      <td>2</td>\n",
       "    </tr>\n",
       "    <tr>\n",
       "      <th>3</th>\n",
       "      <td>6.0</td>\n",
       "      <td>0x25</td>\n",
       "      <td>5.514</td>\n",
       "      <td>2</td>\n",
       "    </tr>\n",
       "    <tr>\n",
       "      <th>4</th>\n",
       "      <td>8.0</td>\n",
       "      <td>0x33</td>\n",
       "      <td>7.600</td>\n",
       "      <td>2</td>\n",
       "    </tr>\n",
       "    <tr>\n",
       "      <th>5</th>\n",
       "      <td>10.0</td>\n",
       "      <td>0x3f</td>\n",
       "      <td>9.388</td>\n",
       "      <td>2</td>\n",
       "    </tr>\n",
       "    <tr>\n",
       "      <th>6</th>\n",
       "      <td>12.0</td>\n",
       "      <td>0x4d</td>\n",
       "      <td>11.475</td>\n",
       "      <td>4</td>\n",
       "    </tr>\n",
       "    <tr>\n",
       "      <th>7</th>\n",
       "      <td>14.0</td>\n",
       "      <td>0x5a</td>\n",
       "      <td>13.412</td>\n",
       "      <td>4</td>\n",
       "    </tr>\n",
       "    <tr>\n",
       "      <th>8</th>\n",
       "      <td>16.0</td>\n",
       "      <td>0x68</td>\n",
       "      <td>15.498</td>\n",
       "      <td>4</td>\n",
       "    </tr>\n",
       "    <tr>\n",
       "      <th>9</th>\n",
       "      <td>18.0</td>\n",
       "      <td>0x73</td>\n",
       "      <td>17.137</td>\n",
       "      <td>4</td>\n",
       "    </tr>\n",
       "    <tr>\n",
       "      <th>10</th>\n",
       "      <td>20.0</td>\n",
       "      <td>0x82</td>\n",
       "      <td>19.373</td>\n",
       "      <td>4</td>\n",
       "    </tr>\n",
       "    <tr>\n",
       "      <th>11</th>\n",
       "      <td>22.0</td>\n",
       "      <td>0x8f</td>\n",
       "      <td>21.310</td>\n",
       "      <td>4</td>\n",
       "    </tr>\n",
       "  </tbody>\n",
       "</table>\n",
       "</div>"
      ],
      "text/plain": [
       "    load dimon    imon  nphase\n",
       "0    0.0   0x0   0.000       1\n",
       "1    2.0   0xa   1.490       1\n",
       "2    4.0  0x17   3.427       2\n",
       "3    6.0  0x25   5.514       2\n",
       "4    8.0  0x33   7.600       2\n",
       "5   10.0  0x3f   9.388       2\n",
       "6   12.0  0x4d  11.475       4\n",
       "7   14.0  0x5a  13.412       4\n",
       "8   16.0  0x68  15.498       4\n",
       "9   18.0  0x73  17.137       4\n",
       "10  20.0  0x82  19.373       4\n",
       "11  22.0  0x8f  21.310       4"
      ]
     },
     "execution_count": 59,
     "metadata": {},
     "output_type": "execute_result"
    }
   ],
   "source": [
    "df = pd.DataFrame(datasets)[['load','dimon','imon','nphase']]\n",
    "df.load=df.load.round(pstate)\n",
    "df"
   ]
  },
  {
   "cell_type": "code",
   "execution_count": 20,
   "id": "be8fdd2e-9787-4f02-a7f0-154343048655",
   "metadata": {},
   "outputs": [
    {
     "data": {
      "text/plain": [
       "4"
      ]
     },
     "execution_count": 20,
     "metadata": {},
     "output_type": "execute_result"
    }
   ],
   "source": [
    "int('0x4',16)"
   ]
  },
  {
   "cell_type": "markdown",
   "id": "e6634231-92eb-4890-9220-a9ac0ccddb48",
   "metadata": {
    "tags": []
   },
   "source": [
    "### Combine Testdata and Testlimits into 1 dataframe"
   ]
  },
  {
   "cell_type": "code",
   "execution_count": 39,
   "id": "598d2f67-daca-43af-bbae-deb28f1b2d37",
   "metadata": {},
   "outputs": [],
   "source": [
    "#df_loadline = pd.concat([df_limits['current'],df['imon'],df_limits['lower'],df_limits['upper']],axis=1);\n",
    "df_imon = pd.merge(df,df_limits,how='outer',on=['load']).drop('dimon',axis=1)\n"
   ]
  },
  {
   "cell_type": "code",
   "execution_count": 40,
   "id": "e97f56af-7f37-4614-a60c-efe977f0391c",
   "metadata": {},
   "outputs": [
    {
     "data": {
      "text/html": [
       "<div>\n",
       "<style scoped>\n",
       "    .dataframe tbody tr th:only-of-type {\n",
       "        vertical-align: middle;\n",
       "    }\n",
       "\n",
       "    .dataframe tbody tr th {\n",
       "        vertical-align: top;\n",
       "    }\n",
       "\n",
       "    .dataframe thead th {\n",
       "        text-align: right;\n",
       "    }\n",
       "</style>\n",
       "<table border=\"1\" class=\"dataframe\">\n",
       "  <thead>\n",
       "    <tr style=\"text-align: right;\">\n",
       "      <th></th>\n",
       "      <th>load</th>\n",
       "      <th>imon</th>\n",
       "      <th>nphase</th>\n",
       "      <th>lower</th>\n",
       "      <th>upper</th>\n",
       "    </tr>\n",
       "  </thead>\n",
       "  <tbody>\n",
       "    <tr>\n",
       "      <th>0</th>\n",
       "      <td>0.0</td>\n",
       "      <td>0.000</td>\n",
       "      <td>1</td>\n",
       "      <td>NaN</td>\n",
       "      <td>NaN</td>\n",
       "    </tr>\n",
       "    <tr>\n",
       "      <th>1</th>\n",
       "      <td>2.0</td>\n",
       "      <td>1.341</td>\n",
       "      <td>1</td>\n",
       "      <td>1.40</td>\n",
       "      <td>2.60</td>\n",
       "    </tr>\n",
       "    <tr>\n",
       "      <th>2</th>\n",
       "      <td>4.0</td>\n",
       "      <td>3.427</td>\n",
       "      <td>1</td>\n",
       "      <td>3.20</td>\n",
       "      <td>4.80</td>\n",
       "    </tr>\n",
       "    <tr>\n",
       "      <th>3</th>\n",
       "      <td>6.0</td>\n",
       "      <td>5.514</td>\n",
       "      <td>2</td>\n",
       "      <td>5.22</td>\n",
       "      <td>6.78</td>\n",
       "    </tr>\n",
       "    <tr>\n",
       "      <th>4</th>\n",
       "      <td>8.0</td>\n",
       "      <td>7.600</td>\n",
       "      <td>2</td>\n",
       "      <td>7.20</td>\n",
       "      <td>8.80</td>\n",
       "    </tr>\n",
       "    <tr>\n",
       "      <th>5</th>\n",
       "      <td>10.0</td>\n",
       "      <td>9.537</td>\n",
       "      <td>2</td>\n",
       "      <td>9.00</td>\n",
       "      <td>11.00</td>\n",
       "    </tr>\n",
       "    <tr>\n",
       "      <th>6</th>\n",
       "      <td>12.0</td>\n",
       "      <td>11.325</td>\n",
       "      <td>4</td>\n",
       "      <td>11.16</td>\n",
       "      <td>12.84</td>\n",
       "    </tr>\n",
       "    <tr>\n",
       "      <th>7</th>\n",
       "      <td>14.0</td>\n",
       "      <td>13.263</td>\n",
       "      <td>4</td>\n",
       "      <td>13.02</td>\n",
       "      <td>14.98</td>\n",
       "    </tr>\n",
       "    <tr>\n",
       "      <th>8</th>\n",
       "      <td>16.0</td>\n",
       "      <td>15.200</td>\n",
       "      <td>4</td>\n",
       "      <td>15.04</td>\n",
       "      <td>16.96</td>\n",
       "    </tr>\n",
       "    <tr>\n",
       "      <th>9</th>\n",
       "      <td>18.0</td>\n",
       "      <td>17.286</td>\n",
       "      <td>4</td>\n",
       "      <td>16.92</td>\n",
       "      <td>19.08</td>\n",
       "    </tr>\n",
       "    <tr>\n",
       "      <th>10</th>\n",
       "      <td>20.0</td>\n",
       "      <td>19.224</td>\n",
       "      <td>4</td>\n",
       "      <td>19.00</td>\n",
       "      <td>21.00</td>\n",
       "    </tr>\n",
       "    <tr>\n",
       "      <th>11</th>\n",
       "      <td>22.0</td>\n",
       "      <td>21.012</td>\n",
       "      <td>4</td>\n",
       "      <td>20.90</td>\n",
       "      <td>23.10</td>\n",
       "    </tr>\n",
       "  </tbody>\n",
       "</table>\n",
       "</div>"
      ],
      "text/plain": [
       "    load    imon  nphase  lower  upper\n",
       "0    0.0   0.000       1    NaN    NaN\n",
       "1    2.0   1.341       1   1.40   2.60\n",
       "2    4.0   3.427       1   3.20   4.80\n",
       "3    6.0   5.514       2   5.22   6.78\n",
       "4    8.0   7.600       2   7.20   8.80\n",
       "5   10.0   9.537       2   9.00  11.00\n",
       "6   12.0  11.325       4  11.16  12.84\n",
       "7   14.0  13.263       4  13.02  14.98\n",
       "8   16.0  15.200       4  15.04  16.96\n",
       "9   18.0  17.286       4  16.92  19.08\n",
       "10  20.0  19.224       4  19.00  21.00\n",
       "11  22.0  21.012       4  20.90  23.10"
      ]
     },
     "execution_count": 40,
     "metadata": {},
     "output_type": "execute_result"
    }
   ],
   "source": [
    "df_imon"
   ]
  },
  {
   "cell_type": "code",
   "execution_count": 42,
   "id": "638e217d-262c-463b-ab5f-accb0c0a7ecb",
   "metadata": {},
   "outputs": [
    {
     "data": {
      "text/html": [
       "<div>\n",
       "<style scoped>\n",
       "    .dataframe tbody tr th:only-of-type {\n",
       "        vertical-align: middle;\n",
       "    }\n",
       "\n",
       "    .dataframe tbody tr th {\n",
       "        vertical-align: top;\n",
       "    }\n",
       "\n",
       "    .dataframe thead th {\n",
       "        text-align: right;\n",
       "    }\n",
       "</style>\n",
       "<table border=\"1\" class=\"dataframe\">\n",
       "  <thead>\n",
       "    <tr style=\"text-align: right;\">\n",
       "      <th></th>\n",
       "      <th>load</th>\n",
       "      <th>imon</th>\n",
       "      <th>nphase</th>\n",
       "      <th>lower</th>\n",
       "      <th>upper</th>\n",
       "    </tr>\n",
       "  </thead>\n",
       "  <tbody>\n",
       "    <tr>\n",
       "      <th>0</th>\n",
       "      <td>0.0</td>\n",
       "      <td>0.750</td>\n",
       "      <td>1</td>\n",
       "      <td>NaN</td>\n",
       "      <td>NaN</td>\n",
       "    </tr>\n",
       "    <tr>\n",
       "      <th>1</th>\n",
       "      <td>2.0</td>\n",
       "      <td>2.091</td>\n",
       "      <td>1</td>\n",
       "      <td>1.40</td>\n",
       "      <td>2.60</td>\n",
       "    </tr>\n",
       "    <tr>\n",
       "      <th>2</th>\n",
       "      <td>4.0</td>\n",
       "      <td>4.177</td>\n",
       "      <td>1</td>\n",
       "      <td>3.20</td>\n",
       "      <td>4.80</td>\n",
       "    </tr>\n",
       "    <tr>\n",
       "      <th>3</th>\n",
       "      <td>6.0</td>\n",
       "      <td>6.264</td>\n",
       "      <td>2</td>\n",
       "      <td>5.22</td>\n",
       "      <td>6.78</td>\n",
       "    </tr>\n",
       "    <tr>\n",
       "      <th>4</th>\n",
       "      <td>8.0</td>\n",
       "      <td>8.350</td>\n",
       "      <td>2</td>\n",
       "      <td>7.20</td>\n",
       "      <td>8.80</td>\n",
       "    </tr>\n",
       "    <tr>\n",
       "      <th>5</th>\n",
       "      <td>10.0</td>\n",
       "      <td>10.287</td>\n",
       "      <td>2</td>\n",
       "      <td>9.00</td>\n",
       "      <td>11.00</td>\n",
       "    </tr>\n",
       "    <tr>\n",
       "      <th>6</th>\n",
       "      <td>12.0</td>\n",
       "      <td>12.075</td>\n",
       "      <td>4</td>\n",
       "      <td>11.16</td>\n",
       "      <td>12.84</td>\n",
       "    </tr>\n",
       "    <tr>\n",
       "      <th>7</th>\n",
       "      <td>14.0</td>\n",
       "      <td>14.013</td>\n",
       "      <td>4</td>\n",
       "      <td>13.02</td>\n",
       "      <td>14.98</td>\n",
       "    </tr>\n",
       "    <tr>\n",
       "      <th>8</th>\n",
       "      <td>16.0</td>\n",
       "      <td>15.950</td>\n",
       "      <td>4</td>\n",
       "      <td>15.04</td>\n",
       "      <td>16.96</td>\n",
       "    </tr>\n",
       "    <tr>\n",
       "      <th>9</th>\n",
       "      <td>18.0</td>\n",
       "      <td>18.036</td>\n",
       "      <td>4</td>\n",
       "      <td>16.92</td>\n",
       "      <td>19.08</td>\n",
       "    </tr>\n",
       "    <tr>\n",
       "      <th>10</th>\n",
       "      <td>20.0</td>\n",
       "      <td>19.974</td>\n",
       "      <td>4</td>\n",
       "      <td>19.00</td>\n",
       "      <td>21.00</td>\n",
       "    </tr>\n",
       "    <tr>\n",
       "      <th>11</th>\n",
       "      <td>22.0</td>\n",
       "      <td>21.762</td>\n",
       "      <td>4</td>\n",
       "      <td>20.90</td>\n",
       "      <td>23.10</td>\n",
       "    </tr>\n",
       "  </tbody>\n",
       "</table>\n",
       "</div>"
      ],
      "text/plain": [
       "    load    imon  nphase  lower  upper\n",
       "0    0.0   0.750       1    NaN    NaN\n",
       "1    2.0   2.091       1   1.40   2.60\n",
       "2    4.0   4.177       1   3.20   4.80\n",
       "3    6.0   6.264       2   5.22   6.78\n",
       "4    8.0   8.350       2   7.20   8.80\n",
       "5   10.0  10.287       2   9.00  11.00\n",
       "6   12.0  12.075       4  11.16  12.84\n",
       "7   14.0  14.013       4  13.02  14.98\n",
       "8   16.0  15.950       4  15.04  16.96\n",
       "9   18.0  18.036       4  16.92  19.08\n",
       "10  20.0  19.974       4  19.00  21.00\n",
       "11  22.0  21.762       4  20.90  23.10"
      ]
     },
     "execution_count": 42,
     "metadata": {},
     "output_type": "execute_result"
    }
   ],
   "source": [
    "df_imon['imon']=df_imon['imon']+.75\n",
    "df_imon"
   ]
  },
  {
   "cell_type": "code",
   "execution_count": 20,
   "id": "ff7b0d88-e709-47aa-912c-5339a9978927",
   "metadata": {},
   "outputs": [],
   "source": [
    "df_all = df_imon.merge(df,how='outer',on=['load']).drop('dimon',axis=1)\n",
    "#df_1st = df_all[['load','imon_x']];df_1st"
   ]
  },
  {
   "cell_type": "markdown",
   "id": "e336192a-1734-4eb7-9ae7-34a2093e3ec1",
   "metadata": {},
   "source": [
    "### Plot Imon against limits"
   ]
  },
  {
   "cell_type": "code",
   "execution_count": 43,
   "id": "6ac65aa1-0683-458e-b28b-85cac5b58907",
   "metadata": {},
   "outputs": [
    {
     "data": {
      "text/plain": [
       "<AxesSubplot:xlabel='load'>"
      ]
     },
     "execution_count": 43,
     "metadata": {},
     "output_type": "execute_result"
    },
    {
     "data": {
      "image/png": "[encoded data removed]",
      "text/plain": [
       "<Figure size 1500x1000 with 1 Axes>"
      ]
     },
     "metadata": {},
     "output_type": "display_data"
    }
   ],
   "source": [
    "df_imon.plot(x='load',figsize=(15,10))"
   ]
  },
  {
   "cell_type": "markdown",
   "id": "e98ae0cf-d822-455e-9600-b88df4f3724c",
   "metadata": {},
   "source": [
    "### Output data to datafile"
   ]
  },
  {
   "cell_type": "code",
   "execution_count": null,
   "id": "d87ecd77-fad9-4a60-a1bf-85a3b765eb4e",
   "metadata": {},
   "outputs": [],
   "source": [
    "datasetname = 'barnowl_15F0_GT2' #'barn_owl_GT1'\n",
    "#datasetname = 'limits'"
   ]
  },
  {
   "cell_type": "code",
   "execution_count": null,
   "id": "f7a2f086-bbce-4f63-9e07-07b3e53fcad1",
   "metadata": {},
   "outputs": [],
   "source": [
    "currentdate = datetime.datetime.today().strftime ('_%y%m%d_%H%M%S')\n",
    "#filename = path/('imon_rawdata_'+currentdate+'.xlsx')\n",
    "filename = path/('imon_rawdata_134A_1p08_v3.xlsx')\n",
    "with pd.ExcelWriter(filename, mode = 'a') as writer:\n",
    "    df.to_excel(writer,sheet_name = datasetname,index=False)\n",
    "#df.to_excel(filename,index=False)#,sheet_name = datasetname,index=False)"
   ]
  },
  {
   "cell_type": "markdown",
   "id": "13e78476-e6e7-4fce-990f-8402ac5fd03a",
   "metadata": {},
   "source": [
    "### Output data to intel test plan\n",
    "Manually open the excel file first and eliminate any dialog boxes before proceeding"
   ]
  },
  {
   "cell_type": "code",
   "execution_count": null,
   "id": "eea48c29-c403-4655-b0f4-28e2d8331d99",
   "metadata": {},
   "outputs": [],
   "source": [
    "file_output.intel_test_plan(testplanfile,datasets,'1')"
   ]
  },
  {
   "cell_type": "code",
   "execution_count": null,
   "id": "7bb33e31-4603-4e3f-bdd9-3355623ba8ef",
   "metadata": {},
   "outputs": [],
   "source": [
    "datasets"
   ]
  },
  {
   "cell_type": "code",
   "execution_count": null,
   "id": "12cc69fd-efbb-42a1-a44b-5c179ed5625c",
   "metadata": {},
   "outputs": [],
   "source": []
  }
 ],
 "metadata": {
  "kernelspec": {
   "display_name": "Python 3 (ipykernel)",
   "language": "python",
   "name": "python3"
  },
  "language_info": {
   "codemirror_mode": {
    "name": "ipython",
    "version": 3
   },
   "file_extension": ".py",
   "mimetype": "text/x-python",
   "name": "python",
   "nbconvert_exporter": "python",
   "pygments_lexer": "ipython3",
   "version": "3.9.13"
  }
 },
 "nbformat": 4,
 "nbformat_minor": 5
}
