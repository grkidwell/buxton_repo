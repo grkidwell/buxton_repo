{
 "cells": [
  {
   "cell_type": "code",
   "execution_count": 8,
   "id": "a70880d1-5c18-4942-ba16-cc0579ac8285",
   "metadata": {},
   "outputs": [],
   "source": [
    "import gpib_equip"
   ]
  },
  {
   "cell_type": "code",
   "execution_count": 9,
   "id": "8c553a64-6983-4844-8d00-f25c153d6046",
   "metadata": {},
   "outputs": [],
   "source": [
    "load = gpib_equip.Kikusui(address='TCPIP0::132.158.231.7::INSTR')"
   ]
  },
  {
   "cell_type": "code",
   "execution_count": 10,
   "id": "0e42d51d-d997-40cb-a4d2-871736a9dabd",
   "metadata": {},
   "outputs": [],
   "source": [
    "load.set_value(10)"
   ]
  },
  {
   "cell_type": "code",
   "execution_count": 11,
   "id": "57494824-c72e-4ef6-98d9-4f3cf4f5dc55",
   "metadata": {},
   "outputs": [],
   "source": [
    "load.on()"
   ]
  },
  {
   "cell_type": "code",
   "execution_count": 12,
   "id": "848624e3-00cc-4159-9e63-f425e90b9823",
   "metadata": {},
   "outputs": [],
   "source": [
    "load.off()"
   ]
  },
  {
   "cell_type": "code",
   "execution_count": 13,
   "id": "48c82401-3273-4c2f-8473-c7f520d6d49f",
   "metadata": {},
   "outputs": [],
   "source": [
    "load.disconnect()"
   ]
  },
  {
   "cell_type": "code",
   "execution_count": null,
   "id": "c7a0f511-e545-4ed5-9d40-871d90e9b0de",
   "metadata": {},
   "outputs": [],
   "source": []
  }
 ],
 "metadata": {
  "kernelspec": {
   "display_name": "Python 3 (ipykernel)",
   "language": "python",
   "name": "python3"
  },
  "language_info": {
   "codemirror_mode": {
    "name": "ipython",
    "version": 3
   },
   "file_extension": ".py",
   "mimetype": "text/x-python",
   "name": "python",
   "nbconvert_exporter": "python",
   "pygments_lexer": "ipython3",
   "version": "3.9.9"
  }
 },
 "nbformat": 4,
 "nbformat_minor": 5
}
